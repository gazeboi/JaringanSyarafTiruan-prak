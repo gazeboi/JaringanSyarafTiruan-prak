{
  "nbformat": 4,
  "nbformat_minor": 0,
  "metadata": {
    "colab": {
      "provenance": []
    },
    "kernelspec": {
      "name": "python3",
      "display_name": "Python 3"
    },
    "language_info": {
      "name": "python"
    }
  },
  "cells": [
    {
      "cell_type": "markdown",
      "source": [
        "## MADALINE"
      ],
      "metadata": {
        "id": "ryODjZfjTyEo"
      }
    },
    {
      "cell_type": "code",
      "source": [
        "import numpy as np"
      ],
      "metadata": {
        "id": "e7bFU_-nT-MB"
      },
      "execution_count": 20,
      "outputs": []
    },
    {
      "cell_type": "code",
      "source": [
        "def fungsi_aktivasi(input_neuron):\n",
        "  if input_neuron < 0:\n",
        "    return -1\n",
        "  else:\n",
        "    return 1"
      ],
      "metadata": {
        "id": "aQ-dRJAQT_VQ"
      },
      "execution_count": 21,
      "outputs": []
    },
    {
      "cell_type": "code",
      "source": [
        "def uji_model(bobot_hidden, bobot_output, bias, data_uji):\n",
        "  vektor_aktivasi = np.vectorize(fungsi_aktivasi)\n",
        "  input_hidden = np.dot(data_uji, bobot_hidden)\n",
        "  input_hidden = input_hidden + bias[:-1]\n",
        "  output_hidden = vektor_aktivasi(input_hidden)\n",
        "  input_output = np.dot(output_hidden, bobot_output) + bias[-1]\n",
        "  output_model = vektor_aktivasi(input_output)\n",
        "  return output_model"
      ],
      "metadata": {
        "id": "FNlhl4pUWUxh"
      },
      "execution_count": 22,
      "outputs": []
    },
    {
      "cell_type": "code",
      "source": [
        "def hitung_akurasi(output_model, target):\n",
        "  perbandingan = [1 if output_model[i] == target[i] else 0 for i in range(len(output_model))]\n",
        "  akurasi = sum(perbandingan) / len(output_model)\n",
        "  return akurasi"
      ],
      "metadata": {
        "id": "1-nCjaaNWXLU"
      },
      "execution_count": 23,
      "outputs": []
    },
    {
      "cell_type": "markdown",
      "source": [
        "Tugas teman-teman adalah melengkapi kode Madaline dibawah sehingga dapat dijalankan dengan jumlah hidden neuron yang bervariasi.\n",
        "Teman-teman dapat menggunakan kode Madaline yang ada pada modul sebagai referensi."
      ],
      "metadata": {
        "id": "ZyCdeRHxT_7O"
      }
    },
    {
      "cell_type": "code",
      "source": [
        "  #Clue 1\n",
        "  #Clue 2\n",
        "def inisialisasi_bobot_hidden(n):\n",
        "    return np.random.rand(2, n)\n",
        "  #Clue 3\n",
        "def inisialisasi_bobot_output(n):\n",
        "    return np.full(n, 0.5)\n",
        "  #Clue 4\n",
        "def inisialisasi_bias_hidden(n):\n",
        "    return np.full(n, 0.5)\n",
        "  #Clue 5\n",
        "def hitung_output_hidden(input_neuron, bobot_hidden, bias_hidden):\n",
        "    input_hidden = np.dot(input_neuron, bobot_hidden) + bias_hidden\n",
        "    return np.array([fungsi_aktivasi(neuron) for neuron in input_hidden])\n",
        "\n",
        "def update_bobot_hidden(input_neuron, bobot_hidden, index, learning_rate=0.1):\n",
        "    if input_neuron[index] > 0:  # Hanya update jika input positif\n",
        "         bobot_hidden[:, index] += learning_rate * input_neuron\n",
        "    return bobot_hidden\n",
        "\n",
        "def latih_model(data_latih, target_latih, laju_pembelajaran=0.2, maksimum_epok=10, jumlah_hidden_neuron=2):\n",
        "    bobot_hidden = inisialisasi_bobot_hidden(jumlah_hidden_neuron)\n",
        "    bobot_output = inisialisasi_bobot_output(jumlah_hidden_neuron)\n",
        "    bias = inisialisasi_bias_hidden(jumlah_hidden_neuron)\n",
        "    bias_output = 0.5  # Bias output neuron\n",
        "\n",
        "    bias = np.append(bias, 0.5)  # Inisialisasi bias output\n",
        "    epok = 0\n",
        "    vektor_aktivasi = np.vectorize(fungsi_aktivasi)\n",
        "    perbarui_bobot = True\n",
        "\n",
        "    while perbarui_bobot == True and epok < maksimum_epok:\n",
        "        perbarui_bobot = False\n",
        "        for data, target in zip(data_latih, target_latih):\n",
        "            input_hidden = np.dot(data, bobot_hidden)\n",
        "            input_hidden = input_hidden + bias[:-1]  # Menambahkan bias hidden\n",
        "            output_hidden = vektor_aktivasi(input_hidden)\n",
        "            input_output = np.dot(output_hidden, bobot_output) + bias[-1]  # Bias output\n",
        "            output_model = vektor_aktivasi(input_output)\n",
        "\n",
        "            if output_model != target:\n",
        "                perbarui_bobot = True\n",
        "\n",
        "                if target == 1:\n",
        "                    index = np.where(output_hidden > 0)[0]  # Clue 6\n",
        "                    bias[index] += 0.5  # Memperbarui bias untuk neuron yang aktif\n",
        "                elif target == -1:\n",
        "                    index = np.where(input_hidden > 0)[0]\n",
        "                    for ind in index:  # Clue 7\n",
        "                        bias[ind] -= 0.5  # Mengurangi bias untuk neuron yang aktif\n",
        "\n",
        "        epok = epok + 1\n",
        "\n",
        "    return (bobot_hidden, bobot_output, bias)"
      ],
      "metadata": {
        "id": "uciS6kyuUV9Y"
      },
      "execution_count": 24,
      "outputs": []
    },
    {
      "cell_type": "markdown",
      "source": [
        "Pengetesan"
      ],
      "metadata": {
        "id": "6XdvmlygWSh-"
      }
    },
    {
      "cell_type": "code",
      "source": [
        "data_latih = np.array([[-1, -1], [-1, 1], [1, -1], [1, 1]])\n",
        "target_latih = np.array([-1, 1, 1, 1])\n",
        "\n",
        "bobot_hidden, bobot_output, bias = latih_model(data_latih, target_latih, laju_pembelajaran=0.2, maksimum_epok=10, jumlah_hidden_neuron=2)\n",
        "\n",
        "output = uji_model(bobot_hidden, bobot_output, bias, data_latih)\n",
        "\n",
        "akurasi = hitung_akurasi(output, target_latih)\n",
        "\n",
        "print('Output:', output)\n",
        "print('Target:', target_latih)\n",
        "print('Accuracy:', akurasi)"
      ],
      "metadata": {
        "colab": {
          "base_uri": "https://localhost:8080/"
        },
        "id": "pv4d2JCvWZ0L",
        "outputId": "43c4481e-496b-4266-fa8b-8ddfdaca2bda"
      },
      "execution_count": 25,
      "outputs": [
        {
          "output_type": "stream",
          "name": "stdout",
          "text": [
            "Output: [-1  1  1  1]\n",
            "Target: [-1  1  1  1]\n",
            "Accuracy: 1.0\n"
          ]
        }
      ]
    },
    {
      "cell_type": "code",
      "source": [
        "data = np.array([[-1,-1],[-1,1],[1,-1],[1,1]])\n",
        "target = np.array([-1,1,1,1])\n",
        "(bobot_hidden, bobot_output, bias) = latih_model(data, target, laju_pembelajaran=0.2, maksimum_epok=10, jumlah_hidden_neuron=3)\n",
        "output = uji_model(bobot_hidden, bobot_output, bias, data)\n",
        "akurasi = hitung_akurasi(output, target)\n",
        "\n",
        "print('Output:', output)\n",
        "print('Target:', target)\n",
        "print('Accuracy:', akurasi)"
      ],
      "metadata": {
        "colab": {
          "base_uri": "https://localhost:8080/"
        },
        "id": "JdlOwHr4WZvq",
        "outputId": "51a47711-9195-49ce-b7f2-03147359e445"
      },
      "execution_count": 26,
      "outputs": [
        {
          "output_type": "stream",
          "name": "stdout",
          "text": [
            "Output: [-1  1  1  1]\n",
            "Target: [-1  1  1  1]\n",
            "Accuracy: 1.0\n"
          ]
        }
      ]
    },
    {
      "cell_type": "code",
      "source": [
        "data = np.array([[1,1],[1,-1],[-1,1],[-1,-1]])\n",
        "target = np.array([-1,1,1,-1])\n",
        "(bobot_hidden, bobot_output, bias) = latih_model(data, target, laju_pembelajaran=0.2, maksimum_epok=10, jumlah_hidden_neuron=4)\n",
        "output = uji_model(bobot_hidden, bobot_output, bias, data)\n",
        "akurasi = hitung_akurasi(output, target)\n",
        "\n",
        "print('Output:', output)\n",
        "print('Target:', target)\n",
        "print('Accuracy:', akurasi)"
      ],
      "metadata": {
        "colab": {
          "base_uri": "https://localhost:8080/"
        },
        "id": "C63FrLkhWraQ",
        "outputId": "9dcf28ce-bdb2-4ab4-b944-c1608d2e2967"
      },
      "execution_count": 27,
      "outputs": [
        {
          "output_type": "stream",
          "name": "stdout",
          "text": [
            "Output: [-1 -1 -1 -1]\n",
            "Target: [-1  1  1 -1]\n",
            "Accuracy: 0.5\n"
          ]
        }
      ]
    },
    {
      "cell_type": "code",
      "source": [
        "data = np.array([[1,1],[1,-1],[-1,1],[-1,-1]])\n",
        "target = np.array([-1,1,1,-1])\n",
        "(bobot_hidden, bobot_output, bias) = latih_model(data, target, laju_pembelajaran=0.2, maksimum_epok=10, jumlah_hidden_neuron=5)\n",
        "output = uji_model(bobot_hidden, bobot_output, bias, data)\n",
        "akurasi = hitung_akurasi(output, target)\n",
        "\n",
        "print('Output:', output)\n",
        "print('Target:', target)\n",
        "print('Accuracy:', akurasi)"
      ],
      "metadata": {
        "colab": {
          "base_uri": "https://localhost:8080/"
        },
        "id": "IesjKwEeWv7D",
        "outputId": "3cc43a43-f729-4af1-e0f1-e41ba475cb11"
      },
      "execution_count": 28,
      "outputs": [
        {
          "output_type": "stream",
          "name": "stdout",
          "text": [
            "Output: [-1 -1 -1 -1]\n",
            "Target: [-1  1  1 -1]\n",
            "Accuracy: 0.5\n"
          ]
        }
      ]
    }
  ]
}