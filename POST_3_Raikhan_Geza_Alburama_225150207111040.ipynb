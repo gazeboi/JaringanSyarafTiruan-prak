{
  "cells": [
    {
      "cell_type": "markdown",
      "metadata": {
        "id": "DT5JA68cGRD-"
      },
      "source": [
        "# Perceptron"
      ]
    },
    {
      "cell_type": "markdown",
      "metadata": {
        "id": "NM_f45c-Ijrt"
      },
      "source": [
        "## Fungsi-fungsi *Plotting*\n",
        "\n",
        "Jangan mengubah kode pada *cell* di bawah ini."
      ]
    },
    {
      "cell_type": "code",
      "execution_count": 1,
      "metadata": {
        "id": "o61nxTlWImIj"
      },
      "outputs": [],
      "source": [
        "import matplotlib.pyplot as plt\n",
        "import numpy as np\n",
        "\n",
        "def line(w, th=0):\n",
        "    w2 = w[2] + .001 if w[2] == 0 else w[2]\n",
        "\n",
        "    return lambda x: (th - w[1] * x - w[0]) / w2\n",
        "\n",
        "\n",
        "def plot(f1, f2, X, target, padding=1, marker='o'):\n",
        "    X = np.array(X)\n",
        "\n",
        "    x_vals, y_vals = X[:, 1], X[:, 2]\n",
        "    xmin, xmax, ymin, ymax = x_vals.min(), x_vals.max(), y_vals.min(), y_vals.max()\n",
        "    markers = f'r{marker}', f'b{marker}'\n",
        "    line_x = np.arange(xmin-padding-1, xmax+padding+1)\n",
        "\n",
        "    for c, v in enumerate(np.unique(target)):\n",
        "        p = X[np.where(target == v)]\n",
        "\n",
        "        plt.plot(p[:,1], p[:,2], markers[c])\n",
        "\n",
        "    plt.axis([xmin-padding, xmax+padding, ymin-padding, ymax+padding])\n",
        "    plt.plot(line_x, f1(line_x))\n",
        "    plt.plot(line_x, f2(line_x))\n",
        "    plt.show()"
      ]
    },
    {
      "cell_type": "markdown",
      "metadata": {
        "id": "VeQ-hZXRIzQ8"
      },
      "source": [
        "## Praktikum"
      ]
    },
    {
      "cell_type": "markdown",
      "metadata": {
        "id": "kGprbYbtGT4Y"
      },
      "source": [
        "### a) Fungsi *Step* Perceptron\n",
        "\n",
        "Tulis kode ke dalam *cell* di bawah ini:"
      ]
    },
    {
      "cell_type": "code",
      "execution_count": 2,
      "metadata": {
        "id": "4R4iq2nnuPMg"
      },
      "outputs": [],
      "source": [
        "def percep_step(input, th=0):\n",
        "  return 1 if input > th else -1 if input < -th else 0"
      ]
    },
    {
      "cell_type": "markdown",
      "metadata": {
        "id": "j9hqEaqjJBq_"
      },
      "source": [
        "### b) Fungsi *training* Perceptron\n",
        "\n",
        "Tulis kode ke dalam *cell* di bawah ini:"
      ]
    },
    {
      "cell_type": "code",
      "execution_count": 3,
      "metadata": {
        "id": "M6OyljkSD9gF"
      },
      "outputs": [],
      "source": [
        "def percep_fit(X, target, th=0, a=1, max_epoch=10, verbose=False, draw=False):\n",
        "  w = np.zeros(len(X[0]) + 1)\n",
        "  bias = np.ones((len(X), 1))\n",
        "  X = np.hstack((bias, X))\n",
        "  stop = False\n",
        "  epoch = 0\n",
        "  while not stop and (max_epoch == -1 or epoch < max_epoch):\n",
        "    stop = True\n",
        "    epoch += 1\n",
        "    if verbose:\n",
        "      print('\\nEpoch', epoch)\n",
        "      for r, row in enumerate(X):\n",
        "        y_in = np.dot(row, w)\n",
        "        y = percep_step(y_in, th)\n",
        "        if y != target[r]:\n",
        "          stop = False\n",
        "          w = [w[i] + a * target[r] * row[i] for i in range(len(row))]\n",
        "          if verbose:\n",
        "            print('Bobot:', w)\n",
        "          if draw:\n",
        "            plot(line(w, th), line(w, -th), X, target)\n",
        "  return w, epoch\n"
      ]
    },
    {
      "cell_type": "markdown",
      "metadata": {
        "id": "MdO8Nce6JHpv"
      },
      "source": [
        "### c) Fungsi *testing* Perceptron\n",
        "\n",
        "Tulis kode ke dalam *cell* di bawah ini:"
      ]
    },
    {
      "cell_type": "code",
      "execution_count": 4,
      "metadata": {
        "id": "i-0KDVKBJFXE"
      },
      "outputs": [],
      "source": [
        "def percep_predict(X, w, th=0):\n",
        "    Y = []\n",
        "    for x in X:\n",
        "        y_in = w[0] + np.dot(x, w[1:])\n",
        "        y = percep_step(y_in, th)\n",
        "        Y.append(y)\n",
        "    return Y"
      ]
    },
    {
      "cell_type": "code",
      "execution_count": 5,
      "metadata": {
        "id": "081BDbRiJH-p"
      },
      "outputs": [],
      "source": [
        "def calc_accuracy(a, b):\n",
        "    s = [1 if a[i] == b[i] else 0 for i in range(len(a))]\n",
        "    return sum(s) / len(a)\n"
      ]
    },
    {
      "cell_type": "markdown",
      "metadata": {
        "id": "vqQD1wT6Dkz0"
      },
      "source": [
        "## Soal\n"
      ]
    },
    {
      "cell_type": "markdown",
      "metadata": {
        "id": "cs3SQxQBkGuB"
      },
      "source": [
        "Gunakan dataset \"data.csv\" yang telah dilampirkan"
      ]
    },
    {
      "cell_type": "code",
      "execution_count": 6,
      "metadata": {
        "id": "E7SdQlxcJcbU",
        "colab": {
          "base_uri": "https://localhost:8080/",
          "height": 73
        },
        "outputId": "78a6e7d5-81f3-4e75-d3a5-6ae5d1a2891d"
      },
      "outputs": [
        {
          "output_type": "display_data",
          "data": {
            "text/plain": [
              "<IPython.core.display.HTML object>"
            ],
            "text/html": [
              "\n",
              "     <input type=\"file\" id=\"files-970c1b79-0b7d-44a6-bc26-3c4e26be1c15\" name=\"files[]\" multiple disabled\n",
              "        style=\"border:none\" />\n",
              "     <output id=\"result-970c1b79-0b7d-44a6-bc26-3c4e26be1c15\">\n",
              "      Upload widget is only available when the cell has been executed in the\n",
              "      current browser session. Please rerun this cell to enable.\n",
              "      </output>\n",
              "      <script>// Copyright 2017 Google LLC\n",
              "//\n",
              "// Licensed under the Apache License, Version 2.0 (the \"License\");\n",
              "// you may not use this file except in compliance with the License.\n",
              "// You may obtain a copy of the License at\n",
              "//\n",
              "//      http://www.apache.org/licenses/LICENSE-2.0\n",
              "//\n",
              "// Unless required by applicable law or agreed to in writing, software\n",
              "// distributed under the License is distributed on an \"AS IS\" BASIS,\n",
              "// WITHOUT WARRANTIES OR CONDITIONS OF ANY KIND, either express or implied.\n",
              "// See the License for the specific language governing permissions and\n",
              "// limitations under the License.\n",
              "\n",
              "/**\n",
              " * @fileoverview Helpers for google.colab Python module.\n",
              " */\n",
              "(function(scope) {\n",
              "function span(text, styleAttributes = {}) {\n",
              "  const element = document.createElement('span');\n",
              "  element.textContent = text;\n",
              "  for (const key of Object.keys(styleAttributes)) {\n",
              "    element.style[key] = styleAttributes[key];\n",
              "  }\n",
              "  return element;\n",
              "}\n",
              "\n",
              "// Max number of bytes which will be uploaded at a time.\n",
              "const MAX_PAYLOAD_SIZE = 100 * 1024;\n",
              "\n",
              "function _uploadFiles(inputId, outputId) {\n",
              "  const steps = uploadFilesStep(inputId, outputId);\n",
              "  const outputElement = document.getElementById(outputId);\n",
              "  // Cache steps on the outputElement to make it available for the next call\n",
              "  // to uploadFilesContinue from Python.\n",
              "  outputElement.steps = steps;\n",
              "\n",
              "  return _uploadFilesContinue(outputId);\n",
              "}\n",
              "\n",
              "// This is roughly an async generator (not supported in the browser yet),\n",
              "// where there are multiple asynchronous steps and the Python side is going\n",
              "// to poll for completion of each step.\n",
              "// This uses a Promise to block the python side on completion of each step,\n",
              "// then passes the result of the previous step as the input to the next step.\n",
              "function _uploadFilesContinue(outputId) {\n",
              "  const outputElement = document.getElementById(outputId);\n",
              "  const steps = outputElement.steps;\n",
              "\n",
              "  const next = steps.next(outputElement.lastPromiseValue);\n",
              "  return Promise.resolve(next.value.promise).then((value) => {\n",
              "    // Cache the last promise value to make it available to the next\n",
              "    // step of the generator.\n",
              "    outputElement.lastPromiseValue = value;\n",
              "    return next.value.response;\n",
              "  });\n",
              "}\n",
              "\n",
              "/**\n",
              " * Generator function which is called between each async step of the upload\n",
              " * process.\n",
              " * @param {string} inputId Element ID of the input file picker element.\n",
              " * @param {string} outputId Element ID of the output display.\n",
              " * @return {!Iterable<!Object>} Iterable of next steps.\n",
              " */\n",
              "function* uploadFilesStep(inputId, outputId) {\n",
              "  const inputElement = document.getElementById(inputId);\n",
              "  inputElement.disabled = false;\n",
              "\n",
              "  const outputElement = document.getElementById(outputId);\n",
              "  outputElement.innerHTML = '';\n",
              "\n",
              "  const pickedPromise = new Promise((resolve) => {\n",
              "    inputElement.addEventListener('change', (e) => {\n",
              "      resolve(e.target.files);\n",
              "    });\n",
              "  });\n",
              "\n",
              "  const cancel = document.createElement('button');\n",
              "  inputElement.parentElement.appendChild(cancel);\n",
              "  cancel.textContent = 'Cancel upload';\n",
              "  const cancelPromise = new Promise((resolve) => {\n",
              "    cancel.onclick = () => {\n",
              "      resolve(null);\n",
              "    };\n",
              "  });\n",
              "\n",
              "  // Wait for the user to pick the files.\n",
              "  const files = yield {\n",
              "    promise: Promise.race([pickedPromise, cancelPromise]),\n",
              "    response: {\n",
              "      action: 'starting',\n",
              "    }\n",
              "  };\n",
              "\n",
              "  cancel.remove();\n",
              "\n",
              "  // Disable the input element since further picks are not allowed.\n",
              "  inputElement.disabled = true;\n",
              "\n",
              "  if (!files) {\n",
              "    return {\n",
              "      response: {\n",
              "        action: 'complete',\n",
              "      }\n",
              "    };\n",
              "  }\n",
              "\n",
              "  for (const file of files) {\n",
              "    const li = document.createElement('li');\n",
              "    li.append(span(file.name, {fontWeight: 'bold'}));\n",
              "    li.append(span(\n",
              "        `(${file.type || 'n/a'}) - ${file.size} bytes, ` +\n",
              "        `last modified: ${\n",
              "            file.lastModifiedDate ? file.lastModifiedDate.toLocaleDateString() :\n",
              "                                    'n/a'} - `));\n",
              "    const percent = span('0% done');\n",
              "    li.appendChild(percent);\n",
              "\n",
              "    outputElement.appendChild(li);\n",
              "\n",
              "    const fileDataPromise = new Promise((resolve) => {\n",
              "      const reader = new FileReader();\n",
              "      reader.onload = (e) => {\n",
              "        resolve(e.target.result);\n",
              "      };\n",
              "      reader.readAsArrayBuffer(file);\n",
              "    });\n",
              "    // Wait for the data to be ready.\n",
              "    let fileData = yield {\n",
              "      promise: fileDataPromise,\n",
              "      response: {\n",
              "        action: 'continue',\n",
              "      }\n",
              "    };\n",
              "\n",
              "    // Use a chunked sending to avoid message size limits. See b/62115660.\n",
              "    let position = 0;\n",
              "    do {\n",
              "      const length = Math.min(fileData.byteLength - position, MAX_PAYLOAD_SIZE);\n",
              "      const chunk = new Uint8Array(fileData, position, length);\n",
              "      position += length;\n",
              "\n",
              "      const base64 = btoa(String.fromCharCode.apply(null, chunk));\n",
              "      yield {\n",
              "        response: {\n",
              "          action: 'append',\n",
              "          file: file.name,\n",
              "          data: base64,\n",
              "        },\n",
              "      };\n",
              "\n",
              "      let percentDone = fileData.byteLength === 0 ?\n",
              "          100 :\n",
              "          Math.round((position / fileData.byteLength) * 100);\n",
              "      percent.textContent = `${percentDone}% done`;\n",
              "\n",
              "    } while (position < fileData.byteLength);\n",
              "  }\n",
              "\n",
              "  // All done.\n",
              "  yield {\n",
              "    response: {\n",
              "      action: 'complete',\n",
              "    }\n",
              "  };\n",
              "}\n",
              "\n",
              "scope.google = scope.google || {};\n",
              "scope.google.colab = scope.google.colab || {};\n",
              "scope.google.colab._files = {\n",
              "  _uploadFiles,\n",
              "  _uploadFilesContinue,\n",
              "};\n",
              "})(self);\n",
              "</script> "
            ]
          },
          "metadata": {}
        },
        {
          "output_type": "stream",
          "name": "stdout",
          "text": [
            "Saving data.csv to data (11).csv\n"
          ]
        }
      ],
      "source": [
        "import pandas as pd\n",
        "\n",
        "from google.colab import files\n",
        "uploaded = files.upload()"
      ]
    },
    {
      "cell_type": "markdown",
      "metadata": {
        "id": "BTMyzLATW0Ct"
      },
      "source": [
        "Kolom Activity berperan sebagai label dan memiliki beberapa kelas:\n",
        "1. SITTING\n",
        "2. LAYING\n",
        "3. WALKING\n",
        "4. STANDING\n",
        "5. WALKING_DOWNSTAIRS\n",
        "6. WALKING_UPSTAIRS"
      ]
    },
    {
      "cell_type": "markdown",
      "metadata": {
        "id": "Dtk4EBIbPvDR"
      },
      "source": [
        "Hapuslah kelas hingga hanya menyisakan kelas: LAYING dan WALKING_UPSTAIRS"
      ]
    },
    {
      "cell_type": "code",
      "execution_count": 7,
      "metadata": {
        "id": "obIOwV6DWGVj"
      },
      "outputs": [],
      "source": [
        "data = pd.read_csv(f'data.csv')\n",
        "data = data[data['Activity'].isin(['LAYING', 'WALKING_UPSTAIRS'])]"
      ]
    },
    {
      "cell_type": "code",
      "execution_count": 9,
      "metadata": {
        "id": "hhk55ONdWNz0"
      },
      "outputs": [],
      "source": [
        "from sklearn.model_selection import train_test_split\n",
        "from sklearn.preprocessing import minmax_scale\n",
        "import numpy as np\n",
        "\n",
        "# Select only the first 10 samples\n",
        "data_small = data.head(10)\n",
        "\n",
        "X = data_small[['x', 'y', 'z']].to_numpy()\n",
        "X = minmax_scale(X)\n",
        "\n",
        "y = data_small['Activity'].to_numpy()\n",
        "c = {'LAYING': -1, 'WALKING_UPSTAIRS': 1}\n",
        "y = np.array([c[i] for i in y])"
      ]
    },
    {
      "cell_type": "code",
      "execution_count": 10,
      "metadata": {
        "id": "x4Sv3wf2ZrrZ",
        "colab": {
          "base_uri": "https://localhost:8080/",
          "height": 563
        },
        "outputId": "d4aabffc-1fcc-4f94-c63e-8ba67a7b4434"
      },
      "outputs": [
        {
          "output_type": "stream",
          "name": "stdout",
          "text": [
            "\n",
            "Epoch 1\n",
            "Bobot: [-0.0001, -1.257489916685195e-06, -6.2236829634598e-05, -4.757406763162795e-05]\n"
          ]
        },
        {
          "output_type": "display_data",
          "data": {
            "text/plain": [
              "<Figure size 640x480 with 1 Axes>"
            ],
            "image/png": "[encoded data removed]"
          },
          "metadata": {}
        },
        {
          "output_type": "stream",
          "name": "stdout",
          "text": [
            "\n",
            "Epoch 2\n",
            "Epochs: 2\n",
            "Accuracy: 1.0\n"
          ]
        }
      ],
      "source": [
        "X_train, X_test, y_train, y_test = train_test_split(X, y, train_size=8, test_size=2, random_state=42)\n",
        "\n",
        "w, epoch = percep_fit(X_train, y_train, a=0.0001, verbose=True, draw=True)\n",
        "out = percep_predict(X_test, w)\n",
        "accuracy = calc_accuracy(out, y_test)\n",
        "\n",
        "print('Epochs:', epoch)\n",
        "print('Accuracy:', accuracy)"
      ]
    },
    {
      "cell_type": "code",
      "execution_count": 13,
      "metadata": {
        "id": "C3ZpN2XzZsR7",
        "colab": {
          "base_uri": "https://localhost:8080/",
          "height": 563
        },
        "outputId": "0b906cc2-cd71-4145-ad70-29f9697a5ecf"
      },
      "outputs": [
        {
          "output_type": "stream",
          "name": "stdout",
          "text": [
            "\n",
            "Epoch 1\n",
            "Bobot: [-1.0, -0.01257489916685195, -0.62236829634598, -0.4757406763162795]\n"
          ]
        },
        {
          "output_type": "display_data",
          "data": {
            "text/plain": [
              "<Figure size 640x480 with 1 Axes>"
            ],
            "image/png": "[encoded data removed]"
          },
          "metadata": {}
        },
        {
          "output_type": "stream",
          "name": "stdout",
          "text": [
            "\n",
            "Epoch 2\n",
            "Epochs: 2\n",
            "Accuracy: 1.0\n"
          ]
        }
      ],
      "source": [
        "w, epoch = percep_fit(X_train, y_train, a=1, verbose=True, draw=True)\n",
        "out = percep_predict(X_test, w)\n",
        "accuracy = calc_accuracy(out, y_test)\n",
        "print('Epochs:', epoch)\n",
        "print('Accuracy:', accuracy)"
      ]
    },
    {
      "cell_type": "markdown",
      "metadata": {
        "id": "HKlTWw27gNzy"
      },
      "source": [
        "**Pertanyaan**  \n",
        "Dikarenakan training untuk mencapai akurasi 1.0 memakan waktu yang lama kita membatasi max epoch menjadi 10. Perhatikan bobot dari kedua proses training di atas. Bandingkan hasil yang didapatkan dan jelaskan apa pengaruh learning rate yang di masukkan!"
      ]
    },
    {
      "cell_type": "markdown",
      "metadata": {
        "id": "0sOSO8tNgOzm"
      },
      "source": [
        "Jawab:\n",
        "Pada percobaan menggunakan dua learning rate (0.0001 dan 1) selama 10 epoch, learning rate 0.0001 menghasilkan pembelajaran yang lambat dan stabil, dengan bobot yang belum mencapai optimal. Sebaliknya, learning rate 1 mempercepat pembelajaran, tetapi bisa menyebabkan ketidakstabilan dan overshoot. Dalam hal akurasi, learning rate besar bisa cepat mendekati akurasi tinggi namun kurang stabil, sementara learning rate kecil lebih stabil tetapi lambat mencapai hasil optimal. Pemilihan learning rate yang tepat penting untuk menyeimbangkan kecepatan dan stabilitas pembelajaran.\n"
      ]
    }
  ],
  "metadata": {
    "colab": {
      "provenance": []
    },
    "kernelspec": {
      "display_name": "Python 3",
      "name": "python3"
    }
  },
  "nbformat": 4,
  "nbformat_minor": 0
}