{
  "nbformat": 4,
  "nbformat_minor": 0,
  "metadata": {
    "colab": {
      "provenance": []
    },
    "kernelspec": {
      "name": "python3",
      "display_name": "Python 3"
    },
    "language_info": {
      "name": "python"
    }
  },
  "cells": [
    {
      "cell_type": "markdown",
      "source": [
        "# Praktikum"
      ],
      "metadata": {
        "id": "vg3TmRkTV8TS"
      }
    },
    {
      "cell_type": "markdown",
      "source": [
        "Dalam bab ini, praktikan diharapkan memahami implementasi model ELM. Praktikan harus mampu membangun model ELM dan Backpropagation, serta melakukan analisis dan perbandingan hasil dari kedua model tersebut."
      ],
      "metadata": {
        "id": "NaSKLvEqWI3M"
      }
    },
    {
      "cell_type": "code",
      "source": [
        "from sklearn.model_selection import train_test_split\n",
        "from sklearn.preprocessing import minmax_scale\n",
        "from sklearn.metrics import accuracy_score\n",
        "import matplotlib.pyplot as plt\n",
        "import pandas as pd\n",
        "import time\n",
        "import numpy as np"
      ],
      "metadata": {
        "id": "h_yjwmN4Nykl"
      },
      "execution_count": 29,
      "outputs": []
    },
    {
      "cell_type": "markdown",
      "source": [
        "Dataset yang digunakan adalah dataset MNIST yang memiliki 28x28 piksel gambar dan 10 label kelas."
      ],
      "metadata": {
        "id": "b7nUnLksWXeH"
      }
    },
    {
      "cell_type": "code",
      "source": [
        "!gdown 1C21YHSaGWJjqj85zCDckCPeBtJwI7aWA"
      ],
      "metadata": {
        "id": "d3-FAXmPBjP0",
        "colab": {
          "base_uri": "https://localhost:8080/"
        },
        "outputId": "b5a46230-f2c9-408a-fbd6-13f874825a40"
      },
      "execution_count": 30,
      "outputs": [
        {
          "output_type": "stream",
          "name": "stdout",
          "text": [
            "Downloading...\n",
            "From: https://drive.google.com/uc?id=1C21YHSaGWJjqj85zCDckCPeBtJwI7aWA\n",
            "To: /content/data.csv\n",
            "\r  0% 0.00/18.3M [00:00<?, ?B/s]\r100% 18.3M/18.3M [00:00<00:00, 206MB/s]\n"
          ]
        }
      ]
    },
    {
      "cell_type": "code",
      "source": [
        "df = pd.read_csv('data.csv')\n",
        "df.head()"
      ],
      "metadata": {
        "id": "OUE51p0NNvMe",
        "colab": {
          "base_uri": "https://localhost:8080/",
          "height": 255
        },
        "outputId": "77f053cb-b394-404e-aae3-99e3aebf57fe"
      },
      "execution_count": 31,
      "outputs": [
        {
          "output_type": "execute_result",
          "data": {
            "text/plain": [
              "   label  1x1  1x2  1x3  1x4  1x5  1x6  1x7  1x8  1x9  ...  28x19  28x20  \\\n",
              "0      7    0    0    0    0    0    0    0    0    0  ...      0      0   \n",
              "1      2    0    0    0    0    0    0    0    0    0  ...      0      0   \n",
              "2      1    0    0    0    0    0    0    0    0    0  ...      0      0   \n",
              "3      0    0    0    0    0    0    0    0    0    0  ...      0      0   \n",
              "4      4    0    0    0    0    0    0    0    0    0  ...      0      0   \n",
              "\n",
              "   28x21  28x22  28x23  28x24  28x25  28x26  28x27  28x28  \n",
              "0      0      0      0      0      0      0      0      0  \n",
              "1      0      0      0      0      0      0      0      0  \n",
              "2      0      0      0      0      0      0      0      0  \n",
              "3      0      0      0      0      0      0      0      0  \n",
              "4      0      0      0      0      0      0      0      0  \n",
              "\n",
              "[5 rows x 785 columns]"
            ],
            "text/html": [
              "\n",
              "  <div id=\"df-09c0ad4c-9238-464e-9b77-9eac9eb89aec\" class=\"colab-df-container\">\n",
              "    <div>\n",
              "<style scoped>\n",
              "    .dataframe tbody tr th:only-of-type {\n",
              "        vertical-align: middle;\n",
              "    }\n",
              "\n",
              "    .dataframe tbody tr th {\n",
              "        vertical-align: top;\n",
              "    }\n",
              "\n",
              "    .dataframe thead th {\n",
              "        text-align: right;\n",
              "    }\n",
              "</style>\n",
              "<table border=\"1\" class=\"dataframe\">\n",
              "  <thead>\n",
              "    <tr style=\"text-align: right;\">\n",
              "      <th></th>\n",
              "      <th>label</th>\n",
              "      <th>1x1</th>\n",
              "      <th>1x2</th>\n",
              "      <th>1x3</th>\n",
              "      <th>1x4</th>\n",
              "      <th>1x5</th>\n",
              "      <th>1x6</th>\n",
              "      <th>1x7</th>\n",
              "      <th>1x8</th>\n",
              "      <th>1x9</th>\n",
              "      <th>...</th>\n",
              "      <th>28x19</th>\n",
              "      <th>28x20</th>\n",
              "      <th>28x21</th>\n",
              "      <th>28x22</th>\n",
              "      <th>28x23</th>\n",
              "      <th>28x24</th>\n",
              "      <th>28x25</th>\n",
              "      <th>28x26</th>\n",
              "      <th>28x27</th>\n",
              "      <th>28x28</th>\n",
              "    </tr>\n",
              "  </thead>\n",
              "  <tbody>\n",
              "    <tr>\n",
              "      <th>0</th>\n",
              "      <td>7</td>\n",
              "      <td>0</td>\n",
              "      <td>0</td>\n",
              "      <td>0</td>\n",
              "      <td>0</td>\n",
              "      <td>0</td>\n",
              "      <td>0</td>\n",
              "      <td>0</td>\n",
              "      <td>0</td>\n",
              "      <td>0</td>\n",
              "      <td>...</td>\n",
              "      <td>0</td>\n",
              "      <td>0</td>\n",
              "      <td>0</td>\n",
              "      <td>0</td>\n",
              "      <td>0</td>\n",
              "      <td>0</td>\n",
              "      <td>0</td>\n",
              "      <td>0</td>\n",
              "      <td>0</td>\n",
              "      <td>0</td>\n",
              "    </tr>\n",
              "    <tr>\n",
              "      <th>1</th>\n",
              "      <td>2</td>\n",
              "      <td>0</td>\n",
              "      <td>0</td>\n",
              "      <td>0</td>\n",
              "      <td>0</td>\n",
              "      <td>0</td>\n",
              "      <td>0</td>\n",
              "      <td>0</td>\n",
              "      <td>0</td>\n",
              "      <td>0</td>\n",
              "      <td>...</td>\n",
              "      <td>0</td>\n",
              "      <td>0</td>\n",
              "      <td>0</td>\n",
              "      <td>0</td>\n",
              "      <td>0</td>\n",
              "      <td>0</td>\n",
              "      <td>0</td>\n",
              "      <td>0</td>\n",
              "      <td>0</td>\n",
              "      <td>0</td>\n",
              "    </tr>\n",
              "    <tr>\n",
              "      <th>2</th>\n",
              "      <td>1</td>\n",
              "      <td>0</td>\n",
              "      <td>0</td>\n",
              "      <td>0</td>\n",
              "      <td>0</td>\n",
              "      <td>0</td>\n",
              "      <td>0</td>\n",
              "      <td>0</td>\n",
              "      <td>0</td>\n",
              "      <td>0</td>\n",
              "      <td>...</td>\n",
              "      <td>0</td>\n",
              "      <td>0</td>\n",
              "      <td>0</td>\n",
              "      <td>0</td>\n",
              "      <td>0</td>\n",
              "      <td>0</td>\n",
              "      <td>0</td>\n",
              "      <td>0</td>\n",
              "      <td>0</td>\n",
              "      <td>0</td>\n",
              "    </tr>\n",
              "    <tr>\n",
              "      <th>3</th>\n",
              "      <td>0</td>\n",
              "      <td>0</td>\n",
              "      <td>0</td>\n",
              "      <td>0</td>\n",
              "      <td>0</td>\n",
              "      <td>0</td>\n",
              "      <td>0</td>\n",
              "      <td>0</td>\n",
              "      <td>0</td>\n",
              "      <td>0</td>\n",
              "      <td>...</td>\n",
              "      <td>0</td>\n",
              "      <td>0</td>\n",
              "      <td>0</td>\n",
              "      <td>0</td>\n",
              "      <td>0</td>\n",
              "      <td>0</td>\n",
              "      <td>0</td>\n",
              "      <td>0</td>\n",
              "      <td>0</td>\n",
              "      <td>0</td>\n",
              "    </tr>\n",
              "    <tr>\n",
              "      <th>4</th>\n",
              "      <td>4</td>\n",
              "      <td>0</td>\n",
              "      <td>0</td>\n",
              "      <td>0</td>\n",
              "      <td>0</td>\n",
              "      <td>0</td>\n",
              "      <td>0</td>\n",
              "      <td>0</td>\n",
              "      <td>0</td>\n",
              "      <td>0</td>\n",
              "      <td>...</td>\n",
              "      <td>0</td>\n",
              "      <td>0</td>\n",
              "      <td>0</td>\n",
              "      <td>0</td>\n",
              "      <td>0</td>\n",
              "      <td>0</td>\n",
              "      <td>0</td>\n",
              "      <td>0</td>\n",
              "      <td>0</td>\n",
              "      <td>0</td>\n",
              "    </tr>\n",
              "  </tbody>\n",
              "</table>\n",
              "<p>5 rows × 785 columns</p>\n",
              "</div>\n",
              "    <div class=\"colab-df-buttons\">\n",
              "\n",
              "  <div class=\"colab-df-container\">\n",
              "    <button class=\"colab-df-convert\" onclick=\"convertToInteractive('df-09c0ad4c-9238-464e-9b77-9eac9eb89aec')\"\n",
              "            title=\"Convert this dataframe to an interactive table.\"\n",
              "            style=\"display:none;\">\n",
              "\n",
              "  <svg xmlns=\"http://www.w3.org/2000/svg\" height=\"24px\" viewBox=\"0 -960 960 960\">\n",
              "    <path d=\"M120-120v-720h720v720H120Zm60-500h600v-160H180v160Zm220 220h160v-160H400v160Zm0 220h160v-160H400v160ZM180-400h160v-160H180v160Zm440 0h160v-160H620v160ZM180-180h160v-160H180v160Zm440 0h160v-160H620v160Z\"/>\n",
              "  </svg>\n",
              "    </button>\n",
              "\n",
              "  <style>\n",
              "    .colab-df-container {\n",
              "      display:flex;\n",
              "      gap: 12px;\n",
              "    }\n",
              "\n",
              "    .colab-df-convert {\n",
              "      background-color: #E8F0FE;\n",
              "      border: none;\n",
              "      border-radius: 50%;\n",
              "      cursor: pointer;\n",
              "      display: none;\n",
              "      fill: #1967D2;\n",
              "      height: 32px;\n",
              "      padding: 0 0 0 0;\n",
              "      width: 32px;\n",
              "    }\n",
              "\n",
              "    .colab-df-convert:hover {\n",
              "      background-color: #E2EBFA;\n",
              "      box-shadow: 0px 1px 2px rgba(60, 64, 67, 0.3), 0px 1px 3px 1px rgba(60, 64, 67, 0.15);\n",
              "      fill: #174EA6;\n",
              "    }\n",
              "\n",
              "    .colab-df-buttons div {\n",
              "      margin-bottom: 4px;\n",
              "    }\n",
              "\n",
              "    [theme=dark] .colab-df-convert {\n",
              "      background-color: #3B4455;\n",
              "      fill: #D2E3FC;\n",
              "    }\n",
              "\n",
              "    [theme=dark] .colab-df-convert:hover {\n",
              "      background-color: #434B5C;\n",
              "      box-shadow: 0px 1px 3px 1px rgba(0, 0, 0, 0.15);\n",
              "      filter: drop-shadow(0px 1px 2px rgba(0, 0, 0, 0.3));\n",
              "      fill: #FFFFFF;\n",
              "    }\n",
              "  </style>\n",
              "\n",
              "    <script>\n",
              "      const buttonEl =\n",
              "        document.querySelector('#df-09c0ad4c-9238-464e-9b77-9eac9eb89aec button.colab-df-convert');\n",
              "      buttonEl.style.display =\n",
              "        google.colab.kernel.accessAllowed ? 'block' : 'none';\n",
              "\n",
              "      async function convertToInteractive(key) {\n",
              "        const element = document.querySelector('#df-09c0ad4c-9238-464e-9b77-9eac9eb89aec');\n",
              "        const dataTable =\n",
              "          await google.colab.kernel.invokeFunction('convertToInteractive',\n",
              "                                                    [key], {});\n",
              "        if (!dataTable) return;\n",
              "\n",
              "        const docLinkHtml = 'Like what you see? Visit the ' +\n",
              "          '<a target=\"_blank\" href=https://colab.research.google.com/notebooks/data_table.ipynb>data table notebook</a>'\n",
              "          + ' to learn more about interactive tables.';\n",
              "        element.innerHTML = '';\n",
              "        dataTable['output_type'] = 'display_data';\n",
              "        await google.colab.output.renderOutput(dataTable, element);\n",
              "        const docLink = document.createElement('div');\n",
              "        docLink.innerHTML = docLinkHtml;\n",
              "        element.appendChild(docLink);\n",
              "      }\n",
              "    </script>\n",
              "  </div>\n",
              "\n",
              "\n",
              "<div id=\"df-242ad23e-4de7-4737-a621-2a7fdf733133\">\n",
              "  <button class=\"colab-df-quickchart\" onclick=\"quickchart('df-242ad23e-4de7-4737-a621-2a7fdf733133')\"\n",
              "            title=\"Suggest charts\"\n",
              "            style=\"display:none;\">\n",
              "\n",
              "<svg xmlns=\"http://www.w3.org/2000/svg\" height=\"24px\"viewBox=\"0 0 24 24\"\n",
              "     width=\"24px\">\n",
              "    <g>\n",
              "        <path d=\"M19 3H5c-1.1 0-2 .9-2 2v14c0 1.1.9 2 2 2h14c1.1 0 2-.9 2-2V5c0-1.1-.9-2-2-2zM9 17H7v-7h2v7zm4 0h-2V7h2v10zm4 0h-2v-4h2v4z\"/>\n",
              "    </g>\n",
              "</svg>\n",
              "  </button>\n",
              "\n",
              "<style>\n",
              "  .colab-df-quickchart {\n",
              "      --bg-color: #E8F0FE;\n",
              "      --fill-color: #1967D2;\n",
              "      --hover-bg-color: #E2EBFA;\n",
              "      --hover-fill-color: #174EA6;\n",
              "      --disabled-fill-color: #AAA;\n",
              "      --disabled-bg-color: #DDD;\n",
              "  }\n",
              "\n",
              "  [theme=dark] .colab-df-quickchart {\n",
              "      --bg-color: #3B4455;\n",
              "      --fill-color: #D2E3FC;\n",
              "      --hover-bg-color: #434B5C;\n",
              "      --hover-fill-color: #FFFFFF;\n",
              "      --disabled-bg-color: #3B4455;\n",
              "      --disabled-fill-color: #666;\n",
              "  }\n",
              "\n",
              "  .colab-df-quickchart {\n",
              "    background-color: var(--bg-color);\n",
              "    border: none;\n",
              "    border-radius: 50%;\n",
              "    cursor: pointer;\n",
              "    display: none;\n",
              "    fill: var(--fill-color);\n",
              "    height: 32px;\n",
              "    padding: 0;\n",
              "    width: 32px;\n",
              "  }\n",
              "\n",
              "  .colab-df-quickchart:hover {\n",
              "    background-color: var(--hover-bg-color);\n",
              "    box-shadow: 0 1px 2px rgba(60, 64, 67, 0.3), 0 1px 3px 1px rgba(60, 64, 67, 0.15);\n",
              "    fill: var(--button-hover-fill-color);\n",
              "  }\n",
              "\n",
              "  .colab-df-quickchart-complete:disabled,\n",
              "  .colab-df-quickchart-complete:disabled:hover {\n",
              "    background-color: var(--disabled-bg-color);\n",
              "    fill: var(--disabled-fill-color);\n",
              "    box-shadow: none;\n",
              "  }\n",
              "\n",
              "  .colab-df-spinner {\n",
              "    border: 2px solid var(--fill-color);\n",
              "    border-color: transparent;\n",
              "    border-bottom-color: var(--fill-color);\n",
              "    animation:\n",
              "      spin 1s steps(1) infinite;\n",
              "  }\n",
              "\n",
              "  @keyframes spin {\n",
              "    0% {\n",
              "      border-color: transparent;\n",
              "      border-bottom-color: var(--fill-color);\n",
              "      border-left-color: var(--fill-color);\n",
              "    }\n",
              "    20% {\n",
              "      border-color: transparent;\n",
              "      border-left-color: var(--fill-color);\n",
              "      border-top-color: var(--fill-color);\n",
              "    }\n",
              "    30% {\n",
              "      border-color: transparent;\n",
              "      border-left-color: var(--fill-color);\n",
              "      border-top-color: var(--fill-color);\n",
              "      border-right-color: var(--fill-color);\n",
              "    }\n",
              "    40% {\n",
              "      border-color: transparent;\n",
              "      border-right-color: var(--fill-color);\n",
              "      border-top-color: var(--fill-color);\n",
              "    }\n",
              "    60% {\n",
              "      border-color: transparent;\n",
              "      border-right-color: var(--fill-color);\n",
              "    }\n",
              "    80% {\n",
              "      border-color: transparent;\n",
              "      border-right-color: var(--fill-color);\n",
              "      border-bottom-color: var(--fill-color);\n",
              "    }\n",
              "    90% {\n",
              "      border-color: transparent;\n",
              "      border-bottom-color: var(--fill-color);\n",
              "    }\n",
              "  }\n",
              "</style>\n",
              "\n",
              "  <script>\n",
              "    async function quickchart(key) {\n",
              "      const quickchartButtonEl =\n",
              "        document.querySelector('#' + key + ' button');\n",
              "      quickchartButtonEl.disabled = true;  // To prevent multiple clicks.\n",
              "      quickchartButtonEl.classList.add('colab-df-spinner');\n",
              "      try {\n",
              "        const charts = await google.colab.kernel.invokeFunction(\n",
              "            'suggestCharts', [key], {});\n",
              "      } catch (error) {\n",
              "        console.error('Error during call to suggestCharts:', error);\n",
              "      }\n",
              "      quickchartButtonEl.classList.remove('colab-df-spinner');\n",
              "      quickchartButtonEl.classList.add('colab-df-quickchart-complete');\n",
              "    }\n",
              "    (() => {\n",
              "      let quickchartButtonEl =\n",
              "        document.querySelector('#df-242ad23e-4de7-4737-a621-2a7fdf733133 button');\n",
              "      quickchartButtonEl.style.display =\n",
              "        google.colab.kernel.accessAllowed ? 'block' : 'none';\n",
              "    })();\n",
              "  </script>\n",
              "</div>\n",
              "\n",
              "    </div>\n",
              "  </div>\n"
            ],
            "application/vnd.google.colaboratory.intrinsic+json": {
              "type": "dataframe",
              "variable_name": "df"
            }
          },
          "metadata": {},
          "execution_count": 31
        }
      ]
    },
    {
      "cell_type": "code",
      "source": [
        "\n",
        "data = df[(df['label'] == 5) | (df['label'] == 6)]\n",
        "data.reset_index(drop=True, inplace=True)"
      ],
      "metadata": {
        "id": "uSsZBsiBCGt1"
      },
      "execution_count": 32,
      "outputs": []
    },
    {
      "cell_type": "code",
      "source": [
        "selected = data.iloc[:12]\n",
        "baris, kolom = 3, 4\n",
        "fig, axes = plt.subplots(baris, kolom, figsize=(10, 8))\n",
        "\n",
        "for index, row in selected.iterrows():\n",
        "    kelas = row[0]\n",
        "    nilai_piksel = row[1:].values.astype(int)\n",
        "\n",
        "    ukuran_citra = (int(np.sqrt(len(nilai_piksel))), int(np.sqrt(len(nilai_piksel))))\n",
        "    citra = nilai_piksel.reshape(ukuran_citra)\n",
        "\n",
        "    baris_subplot = index // kolom\n",
        "    kolom_subplot = index % kolom\n",
        "    axes[baris_subplot, kolom_subplot].imshow(citra, cmap='gray')\n",
        "    axes[baris_subplot, kolom_subplot].set_title(f'Kelas: {kelas}')\n",
        "    axes[baris_subplot, kolom_subplot].axis('off')\n",
        "\n",
        "plt.tight_layout()\n",
        "plt.show()"
      ],
      "metadata": {
        "id": "wnoY3bCBKB7x",
        "colab": {
          "base_uri": "https://localhost:8080/",
          "height": 658
        },
        "outputId": "b9abd890-ff9c-46e3-aae3-2e4c320a4495"
      },
      "execution_count": 33,
      "outputs": [
        {
          "output_type": "stream",
          "name": "stderr",
          "text": [
            "<ipython-input-33-643402e0e743>:6: FutureWarning: Series.__getitem__ treating keys as positions is deprecated. In a future version, integer keys will always be treated as labels (consistent with DataFrame behavior). To access a value by position, use `ser.iloc[pos]`\n",
            "  kelas = row[0]\n"
          ]
        },
        {
          "output_type": "display_data",
          "data": {
            "text/plain": [
              "<Figure size 1000x800 with 12 Axes>"
            ],
            "image/png": "[encoded data removed]"
          },
          "metadata": {}
        }
      ]
    },
    {
      "cell_type": "markdown",
      "source": [
        "### Fungsi *Training* ELM\n",
        "\n",
        "Lengkapi kode dalam cell di bawah ini:"
      ],
      "metadata": {
        "id": "XjIV4V8bkXnY"
      }
    },
    {
      "cell_type": "code",
      "execution_count": 34,
      "metadata": {
        "id": "dQeE8uTh87Vr"
      },
      "outputs": [],
      "source": [
        "import numpy as np\n",
        "import time\n",
        "\n",
        "def elm_fit(X, target, h, W=None):\n",
        "    start_time = time.time()\n",
        "\n",
        "    if W is None:\n",
        "        W = np.random.rand(X.shape[1], h)\n",
        "\n",
        "    Hinit = np.dot(X, W)\n",
        "    H = np.tanh(Hinit)\n",
        "\n",
        "    Ht = H.T\n",
        "    Hp = np.linalg.pinv(Ht @ H) @ Ht\n",
        "\n",
        "    beta = Hp @ target\n",
        "    y = H @ beta\n",
        "    mse = np.mean((y - target) ** 2)\n",
        "\n",
        "    execution = time.time() - start_time\n",
        "    print(\"Waktu eksekusi: %s detik\" % execution)\n",
        "\n",
        "    return W, beta, mse\n"
      ]
    },
    {
      "cell_type": "markdown",
      "source": [
        "### Fungsi *Testing* ELM\n",
        "\n",
        "Lengkapi kode dalam cell di bawah ini:"
      ],
      "metadata": {
        "id": "Wr_KXCsrka1g"
      }
    },
    {
      "cell_type": "code",
      "source": [
        "def elm_predict(X, W, b, round_output=False):\n",
        "    Hinit = np.dot(X, W)\n",
        "    H = np.tanh(Hinit)\n",
        "\n",
        "\n",
        "    y = H @ b\n",
        "\n",
        "\n",
        "    if round_output:\n",
        "        y = np.round(y).astype(int)\n",
        "\n",
        "\n",
        "    return y"
      ],
      "metadata": {
        "id": "cEpfJbTf9Nja"
      },
      "execution_count": 35,
      "outputs": []
    },
    {
      "cell_type": "markdown",
      "source": [
        "### Implementasi Model ELM\n",
        "Lengkapi kode dalam cell di bawah ini:"
      ],
      "metadata": {
        "id": "HW4SdQ-6kewT"
      }
    },
    {
      "cell_type": "markdown",
      "source": [
        "Ubahlah nilai pengaturan sebagai berikut:\n",
        "\n",
        "a. Rasio data latih: 75% dan data uji: 25%\n",
        "\n",
        "b. Jumlah hidden neuron: 10"
      ],
      "metadata": {
        "id": "KmuP23FmmPgw"
      }
    },
    {
      "cell_type": "code",
      "source": [
        "X = minmax_scale(data.drop('label', axis=1).astype('float32'))\n",
        "Y = data['label'].astype('int')\n",
        "\n",
        "\n",
        "X_train, X_test, y_train, y_test = train_test_split(X, Y, test_size=0.25, random_state=42)\n",
        "\n",
        "\n",
        "W, b, mse = elm_fit(X_train, y_train, h=10)\n",
        "print('MSE:', mse)\n",
        "\n",
        "\n",
        "output = elm_predict(X_test, W, b, round_output=True)\n",
        "\n",
        "\n",
        "accuracy = accuracy_score(output, y_test)\n",
        "print('Output:', output)\n",
        "print('True   :', y_test)\n",
        "print('Accuracy:', accuracy)\n"
      ],
      "metadata": {
        "id": "aLp0-V-R9RfO",
        "colab": {
          "base_uri": "https://localhost:8080/"
        },
        "outputId": "7566df36-5be2-4203-e669-48cfbf7d809d"
      },
      "execution_count": 36,
      "outputs": [
        {
          "output_type": "stream",
          "name": "stdout",
          "text": [
            "Waktu eksekusi: 0.0072286128997802734 detik\n",
            "MSE: 0.24991877922985592\n",
            "Output: [6 6 6 6 6 6 6 6 6 6 6 6 6 6 6 6 6 6 6 6 6 6 6 6 6 6 6 6 6 6 6 6 6 6 6 6 6\n",
            " 6 6 6 6 6 6 6 6 6 6 6 6 6 6 6 6 6 6 6 6 6 6 6 6 6 6 6 6 6 6 6 6 6 6 6 6 6\n",
            " 6 6 6 6 6 6 6 6 6 6 6 6 6 6 6 6 6 6 6 6 6 6 6 6 6 6 6 6 6 6 6 6 6 6 6 6 6\n",
            " 6 6 6 6 6 6 6 6 6 6 6 6 6 6 6 6 6 6 6 6 6 6 6 6 6 6 6 6 6 6 6 6 6 6 6 6 6\n",
            " 6 6 6 6 6 6 6 6 6 6 6 6 6 6 6 6 6 6 6 6 6 6 6 6 6 6 6 6 6 6 6 6 6 6 6 6 6\n",
            " 6 6 6 6 6 6 6 6 6 6 6 6 6 6 6 6 6 6 6 6 6 6 6 6 6 6 6 6 6 6 6 6 6 6 6 6 6\n",
            " 6 6 6 6 6 6 6 6 6 6 6 6 6 6 6 6 6 6 6 6 6 6 6 6 6 6 6 6 6 6 6 6 6 6 6 6 6\n",
            " 6 6 6 6 6 6 6 6 6 6 6 6 6 6 6 6 6 6 6 6 6 6 6 6 6 6 6 6 6 6 6 6 6 6 6 6 6\n",
            " 6 6 6 6 6 6 6 6 6 6 6 6 6 6 6 6 6 6 6 6 6 6 6 6 6 6 6 6 6 6 6 6 6 6 6 6 6\n",
            " 6 6 6 6 6 6 6 6 6 6 6 6 6 6 6 6 6 6 6 6 6 6 6 6 6 6 6 6 6 6 6 6 6 6 6 6 6\n",
            " 6 6 6 6 6 6 6 6 6 6 6 6 6 6 6 6 6 6 6 6 6 6 6 6 6 6 6 6 6 6 6 6 6 6 6 6 6\n",
            " 6 6 6 6 6 6 6 6 6 6 6 6 6 6 6 6 6 6 6 6 6 6 6 6 6 6 6 6 6 6 6 6 6 6 6 6 6\n",
            " 6 6 6 6 6 6 6 6 6 6 6 6 6 6 6 6 6 6 6]\n",
            "True   : 233     5\n",
            "1566    6\n",
            "486     5\n",
            "799     5\n",
            "1233    6\n",
            "       ..\n",
            "56      5\n",
            "585     5\n",
            "1501    6\n",
            "1211    5\n",
            "1374    5\n",
            "Name: label, Length: 463, dtype: int64\n",
            "Accuracy: 0.5442764578833693\n"
          ]
        }
      ]
    },
    {
      "cell_type": "markdown",
      "source": [
        "### Fungsi *Training* Backpropagation\n"
      ],
      "metadata": {
        "id": "mD9VAKjQBNrH"
      }
    },
    {
      "cell_type": "code",
      "source": [
        "import numpy as np\n",
        "\n",
        "def sig(x):\n",
        "    return 1 / (1 + np.exp(-x))\n",
        "\n",
        "def sigd(x):\n",
        "    s = sig(x)\n",
        "    return s * (1 - s)\n",
        "\n",
        "def onehot_enc(lbl, min_val=0):\n",
        "    mi = min(lbl)\n",
        "    enc = np.zeros((len(lbl), max(lbl) - mi + 1))\n",
        "    for i, x in enumerate(lbl):\n",
        "        enc[i, x - mi] = 1\n",
        "    return enc\n",
        "\n",
        "def onehot_dec(enc, mi=0):\n",
        "    return [np.argmax(e) + mi for e in enc]\n"
      ],
      "metadata": {
        "id": "VkG0GqS7k6Bd"
      },
      "execution_count": 37,
      "outputs": []
    },
    {
      "cell_type": "code",
      "source": [
        "import time\n",
        "\n",
        "def bp_fit(X, target, layer_conf, max_epoch, max_error=0.1, learn_rate=0.1, print_per_epoch=100):\n",
        "    start_time = time.time()\n",
        "    np.random.seed(1)\n",
        "\n",
        "    n = [np.empty(layer_conf[i] + 1) if i < len(layer_conf) - 1 else np.empty(layer_conf[i])\n",
        "         for i in range(len(layer_conf))]\n",
        "    w = [np.random.rand(layer_conf[i] + 1, layer_conf[i+1]) for i in range(len(layer_conf) - 1)]\n",
        "    dw = [np.zeros_like(w[i]) for i in range(len(w))]\n",
        "    d = [np.empty(layer_conf[i+1]) for i in range(len(layer_conf) - 1)]\n",
        "    nin = [np.empty(layer_conf[i+1]) for i in range(len(layer_conf) - 1)]\n",
        "    epoch = 0\n",
        "    mse = 1\n",
        "\n",
        "    for i in range(len(n) - 1):\n",
        "        n[i][-1] = 1\n",
        "\n",
        "    while (max_epoch == -1 or epoch < max_epoch) and mse > max_error:\n",
        "        epoch += 1\n",
        "        mse = 0\n",
        "\n",
        "        for r in range(len(X)):\n",
        "            n[0][:-1] = X[r]\n",
        "            n[0][-1] = 1\n",
        "\n",
        "            for L in range(1, len(layer_conf)):\n",
        "                nin[L-1] = np.dot(n[L-1], w[L-1])\n",
        "                if L < len(layer_conf) - 1:\n",
        "                    n[L][:-1] = sig(nin[L-1])\n",
        "                    n[L][-1] = 1\n",
        "                else:\n",
        "                    n[L] = sig(nin[L-1])\n",
        "\n",
        "            e = target[r] - n[-1]\n",
        "            mse += np.sum(e ** 2)\n",
        "\n",
        "            d[-1] = e * sigd(nin[-1])\n",
        "            dw[-1] = learn_rate * np.outer(n[-2], d[-1])\n",
        "\n",
        "            for L in range(len(layer_conf) - 2, 0, -1):\n",
        "                d[L-1] = (np.dot(d[L], w[L][:-1].T)) * sigd(nin[L-1])\n",
        "                dw[L-1] = learn_rate * np.outer(n[L-1], d[L-1])\n",
        "\n",
        "            for i in range(len(w)):\n",
        "                w[i] += dw[i]\n",
        "\n",
        "        mse /= len(X)\n",
        "\n",
        "        if print_per_epoch > -1 and epoch % print_per_epoch == 0:\n",
        "            print(f'Epoch {epoch}, MSE: {mse}')\n",
        "\n",
        "    execution = time.time() - start_time\n",
        "    print(f\"Waktu eksekusi: {execution:.4f} detik\")\n",
        "\n",
        "    return w, epoch, mse\n"
      ],
      "metadata": {
        "id": "raCBHJcF9g19"
      },
      "execution_count": 38,
      "outputs": []
    },
    {
      "cell_type": "markdown",
      "source": [
        "### b) Fungsi *Testing* Backpropagation\n"
      ],
      "metadata": {
        "id": "h376COIpk-HT"
      }
    },
    {
      "cell_type": "code",
      "source": [
        "def bp_predict(X, w):\n",
        "    num_layers = len(w) + 1\n",
        "    layer_conf = [w[0].shape[0] - 1]\n",
        "    for i in range(len(w)):\n",
        "        layer_conf.append(w[i].shape[1])\n",
        "\n",
        "    n = []\n",
        "    for i in range(num_layers):\n",
        "        if i < num_layers - 1:\n",
        "            n.append(np.empty(layer_conf[i] + 1))\n",
        "        else:\n",
        "            n.append(np.empty(layer_conf[i]))\n",
        "\n",
        "    predict = []\n",
        "\n",
        "    for x in X:\n",
        "        n[0][:-1] = x\n",
        "        n[0][-1] = 1\n",
        "\n",
        "        for L in range(len(w)):\n",
        "            nin_L = np.dot(n[L], w[L])\n",
        "            if L < len(w) - 1:\n",
        "                n[L + 1][:-1] = sig(nin_L)\n",
        "                n[L + 1][-1] = 1\n",
        "            else:\n",
        "                n[L + 1] = sig(nin_L)\n",
        "\n",
        "        predict.append(n[-1].copy())\n",
        "\n",
        "    return predict\n"
      ],
      "metadata": {
        "id": "_nptUqJRk8NV"
      },
      "execution_count": 39,
      "outputs": []
    },
    {
      "cell_type": "markdown",
      "source": [
        "### Implementasi Model Backpropagation\n",
        "Lengkapi kode dalam cell di bawah ini:\n",
        "Ubahlah nilai pengaturan sebagai berikut:\n",
        "\n",
        "a. Rasio data latih: 75% dan data uji: 25%\n",
        "\n",
        "b. Jumlah hidden neuron: 10\n",
        "\n",
        "c. Max epoch = 100\n",
        "\n",
        "d. Learning rate = 0.1\n",
        "\n",
        "e. Max error = 0.5"
      ],
      "metadata": {
        "id": "hp3DPSlFlGF1"
      }
    },
    {
      "cell_type": "code",
      "source": [
        "\n",
        "hidden_neurons = 10\n",
        "max_epoch = 100\n",
        "learning_rate = 0.1\n",
        "max_error = 0.5\n",
        "train_ratio = 0.75\n",
        "\n",
        "x = minmax_scale(data.drop('label', axis=1).astype('float32'))\n",
        "y = data['label'].astype('int')\n",
        "\n",
        "X = x\n",
        "Y = onehot_enc(y)\n",
        "\n",
        "X_train, X_test, y_train, y_test = train_test_split(X, Y, test_size=1 - train_ratio, random_state=42)\n",
        "\n",
        "layer_conf = (784, hidden_neurons, 2)\n",
        "w, ep, mse = bp_fit(\n",
        "    X_train, y_train,\n",
        "    layer_conf=layer_conf,\n",
        "    learn_rate=learning_rate,\n",
        "    max_epoch=max_epoch,\n",
        "    max_error=max_error,\n",
        "    print_per_epoch=25\n",
        ")\n",
        "\n",
        "\n",
        "predict = bp_predict(X_test, w)\n",
        "predict = onehot_dec(predict)\n",
        "y_test_decoded = onehot_dec(y_test)\n",
        "\n",
        "\n",
        "accuracy = accuracy_score(predict, y_test_decoded)\n",
        "\n",
        "\n",
        "print('Epochs:', ep)\n",
        "print('MSE:', mse)\n",
        "print('Output:', predict)\n",
        "print('True :', y_test_decoded)\n",
        "print('Accuracy:', accuracy)\n"
      ],
      "metadata": {
        "id": "o5pvhrTi9uRv",
        "colab": {
          "base_uri": "https://localhost:8080/"
        },
        "outputId": "aae6f8cb-459c-44af-f584-eb755fc72e2c"
      },
      "execution_count": 41,
      "outputs": [
        {
          "output_type": "stream",
          "name": "stdout",
          "text": [
            "Epoch 25, MSE: 0.5172361278406471\n",
            "Epoch 50, MSE: 0.5172361278406374\n",
            "Epoch 75, MSE: 0.5172361278406274\n",
            "Epoch 100, MSE: 0.5172361278406177\n",
            "Waktu eksekusi: 15.6866 detik\n",
            "Epochs: 100\n",
            "MSE: 0.5172361278406177\n",
            "Output: [1, 1, 1, 1, 1, 1, 1, 1, 1, 1, 1, 1, 1, 1, 1, 1, 1, 1, 1, 1, 1, 1, 1, 1, 1, 1, 1, 1, 1, 1, 1, 1, 1, 1, 1, 1, 1, 1, 1, 1, 1, 1, 1, 1, 1, 1, 1, 1, 1, 1, 1, 1, 1, 1, 1, 1, 1, 1, 1, 1, 1, 1, 1, 1, 1, 1, 1, 1, 1, 1, 1, 1, 1, 1, 1, 1, 1, 1, 1, 1, 1, 1, 1, 1, 1, 1, 1, 1, 1, 1, 1, 1, 1, 1, 1, 1, 1, 1, 1, 1, 1, 1, 1, 1, 1, 1, 1, 1, 1, 1, 1, 1, 1, 1, 1, 1, 1, 1, 1, 1, 1, 1, 1, 1, 1, 1, 1, 1, 1, 1, 1, 1, 1, 1, 1, 1, 1, 1, 1, 1, 1, 1, 1, 1, 1, 1, 1, 1, 1, 1, 1, 1, 1, 1, 1, 1, 1, 1, 1, 1, 1, 1, 1, 1, 1, 1, 1, 1, 1, 1, 1, 1, 1, 1, 1, 1, 1, 1, 1, 1, 1, 1, 1, 1, 1, 1, 1, 1, 1, 1, 1, 1, 1, 1, 1, 1, 1, 1, 1, 1, 1, 1, 1, 1, 1, 1, 1, 1, 1, 1, 1, 1, 1, 1, 1, 1, 1, 1, 1, 1, 1, 1, 1, 1, 1, 1, 1, 1, 1, 1, 1, 1, 1, 1, 1, 1, 1, 1, 1, 1, 1, 1, 1, 1, 1, 1, 1, 1, 1, 1, 1, 1, 1, 1, 1, 1, 1, 1, 1, 1, 1, 1, 1, 1, 1, 1, 1, 1, 1, 1, 1, 1, 1, 1, 1, 1, 1, 1, 1, 1, 1, 1, 1, 1, 1, 1, 1, 1, 1, 1, 1, 1, 1, 1, 1, 1, 1, 1, 1, 1, 1, 1, 1, 1, 1, 1, 1, 1, 1, 1, 1, 1, 1, 1, 1, 1, 1, 1, 1, 1, 1, 1, 1, 1, 1, 1, 1, 1, 1, 1, 1, 1, 1, 1, 1, 1, 1, 1, 1, 1, 1, 1, 1, 1, 1, 1, 1, 1, 1, 1, 1, 1, 1, 1, 1, 1, 1, 1, 1, 1, 1, 1, 1, 1, 1, 1, 1, 1, 1, 1, 1, 1, 1, 1, 1, 1, 1, 1, 1, 1, 1, 1, 1, 1, 1, 1, 1, 1, 1, 1, 1, 1, 1, 1, 1, 1, 1, 1, 1, 1, 1, 1, 1, 1, 1, 1, 1, 1, 1, 1, 1, 1, 1, 1, 1, 1, 1, 1, 1, 1, 1, 1, 1, 1, 1, 1, 1, 1, 1, 1, 1, 1, 1, 1, 1, 1, 1, 1, 1, 1, 1, 1, 1, 1, 1, 1, 1, 1, 1, 1, 1, 1, 1, 1, 1, 1, 1, 1, 1, 1, 1, 1, 1]\n",
            "True : [0, 1, 0, 0, 1, 1, 0, 1, 0, 0, 0, 0, 1, 1, 0, 0, 1, 1, 1, 0, 1, 1, 0, 0, 1, 1, 1, 1, 1, 0, 0, 1, 0, 1, 0, 0, 1, 1, 1, 0, 0, 1, 1, 0, 1, 0, 0, 1, 1, 0, 1, 1, 0, 1, 0, 1, 1, 1, 0, 1, 0, 0, 0, 0, 1, 1, 0, 0, 1, 0, 1, 1, 1, 0, 1, 1, 1, 1, 0, 0, 1, 0, 0, 0, 0, 1, 0, 1, 1, 0, 0, 1, 0, 0, 0, 1, 1, 1, 0, 0, 0, 1, 0, 0, 1, 1, 0, 0, 1, 0, 0, 1, 1, 0, 1, 1, 0, 0, 0, 1, 0, 1, 0, 1, 0, 1, 0, 0, 0, 1, 1, 0, 1, 1, 1, 1, 1, 1, 1, 1, 1, 0, 1, 1, 1, 0, 1, 1, 0, 1, 1, 1, 0, 1, 0, 1, 0, 1, 0, 0, 1, 1, 0, 0, 1, 0, 0, 0, 1, 0, 0, 0, 1, 0, 1, 0, 0, 1, 1, 1, 0, 0, 0, 0, 0, 1, 1, 1, 0, 0, 1, 1, 1, 1, 1, 0, 0, 0, 0, 1, 1, 0, 0, 1, 1, 1, 0, 1, 1, 0, 1, 1, 1, 1, 1, 1, 0, 0, 1, 1, 1, 0, 0, 0, 1, 1, 1, 0, 1, 0, 0, 0, 0, 0, 0, 1, 1, 0, 0, 1, 1, 1, 1, 1, 1, 1, 0, 0, 1, 1, 0, 0, 1, 1, 1, 0, 1, 0, 1, 0, 1, 1, 1, 1, 1, 1, 0, 0, 1, 0, 1, 0, 1, 1, 1, 1, 0, 0, 1, 0, 0, 1, 0, 0, 0, 0, 0, 1, 0, 1, 1, 1, 0, 0, 1, 0, 0, 1, 0, 1, 0, 1, 1, 1, 1, 1, 0, 1, 1, 1, 1, 1, 0, 0, 0, 1, 0, 1, 0, 0, 1, 0, 1, 0, 1, 0, 1, 0, 0, 1, 0, 0, 1, 1, 0, 1, 1, 1, 1, 1, 1, 0, 1, 0, 1, 0, 0, 1, 1, 0, 1, 0, 1, 1, 0, 1, 1, 1, 0, 0, 0, 0, 1, 0, 0, 0, 0, 0, 1, 0, 1, 1, 0, 0, 1, 1, 0, 0, 1, 1, 1, 0, 0, 0, 0, 1, 0, 0, 1, 0, 1, 1, 1, 1, 0, 1, 0, 1, 0, 1, 1, 1, 1, 0, 1, 0, 1, 0, 1, 0, 1, 1, 1, 1, 1, 1, 1, 0, 1, 0, 1, 1, 0, 0, 0, 1, 1, 0, 1, 1, 1, 0, 1, 1, 1, 0, 1, 0, 1, 1, 1, 0, 1, 0, 0, 1, 1, 1, 1, 0, 0, 1, 1, 1, 1, 0, 1, 1, 0, 0, 1, 0, 0]\n",
            "Accuracy: 0.5442764578833693\n"
          ]
        }
      ]
    },
    {
      "cell_type": "markdown",
      "source": [
        "# Pertanyaan\n",
        "1. Jelaskan proses membagi data menjadi set pelatihan dan pengujian untuk pelatihan . Mengapa langkah ini diperlukan?\n",
        "2. Bagaimana proses penyesuaian bobot dilakukan dalam Extreme Learning Machine (ELM) dibandingkan dengan algoritma Backpropagation?\n",
        "3. Bagaimana perbandingan dari hasil dua model diatas? Jelaskan perbedaan, kelebihan, dan kekurangan berdasarkan hasil yang diterima!"
      ],
      "metadata": {
        "id": "xgWaUBjfiPJw"
      }
    },
    {
      "cell_type": "markdown",
      "source": [
        "Jawaban\n",
        "\n",
        "1. Proses ini melibatkan pemisahan data menjadi dua bagian: set pelatihan untuk melatih model dan set pengujian untuk mengevaluasi kinerja model. Biasanya, sekitar 70-80% data digunakan untuk pelatihan dan sisanya untuk pengujian.\n",
        "\n",
        "2. Pada Extreme Learning Machine (ELM), bobot antara input dan hidden layer diatur secara acak dan tidak diubah selama pelatihan. Hanya bobot keluaran yang dihitung menggunakan metode matematika seperti pseudo-invers, membuat prosesnya sangat cepat. Sebaliknya, Backpropagation menyesuaikan bobot secara iteratif di semua lapisan menggunakan perhitungan gradien berdasarkan error, yang memerlukan waktu lebih lama tetapi biasanya menghasilkan model yang lebih akurat.\n",
        "3. ELM menawarkan kecepatan pelatihan yang tinggi dan implementasi yang sederhana, cocok untuk dataset yang tidak terlalu kompleks. Namun, ELM bisa kurang akurat pada data yang rumit dan sensitif terhadap pemilihan bobot awal. Di sisi lain, Backpropagation lebih lambat karena proses iteratifnya, tetapi mampu mencapai akurasi yang lebih tinggi dan generalisasi yang lebih baik pada dataset yang kompleks."
      ],
      "metadata": {
        "id": "3audrTwHevr-"
      }
    }
  ]
}