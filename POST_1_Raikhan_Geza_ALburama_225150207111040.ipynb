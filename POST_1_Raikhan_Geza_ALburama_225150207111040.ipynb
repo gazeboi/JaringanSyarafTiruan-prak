{
  "nbformat": 4,
  "nbformat_minor": 0,
  "metadata": {
    "colab": {
      "provenance": []
    },
    "kernelspec": {
      "name": "python3",
      "display_name": "Python 3"
    },
    "language_info": {
      "name": "python"
    }
  },
  "cells": [
    {
      "cell_type": "markdown",
      "source": [
        "Pada soal bab 1 ini, praktikan diharap bisa menerapkan McCulloch-Pitts Neuron 2 layer untuk menyelesaikan persoalan logika sederhana."
      ],
      "metadata": {
        "id": "Ajq3vhLich78"
      }
    },
    {
      "cell_type": "markdown",
      "source": [
        "# Modul"
      ],
      "metadata": {
        "id": "O699a8SBMGFQ"
      }
    },
    {
      "cell_type": "code",
      "metadata": {
        "id": "bIJkBSh2Wagw"
      },
      "source": [
        "def binstep(x, th=0):\n",
        "  return 1 if x >= th else 0"
      ],
      "execution_count": 109,
      "outputs": []
    },
    {
      "cell_type": "code",
      "metadata": {
        "id": "1ib6LYBRbRDF"
      },
      "source": [
        "import numpy as np\n",
        "\n",
        "def MCP(x, w, th):\n",
        "  y_in = np.dot(x, w)\n",
        "  y_out = binstep(y_in, th)\n",
        "  return y_out"
      ],
      "execution_count": 110,
      "outputs": []
    },
    {
      "cell_type": "code",
      "metadata": {
        "id": "ZXiZ_tEhfQQb"
      },
      "source": [
        "def calc_accuracy(a, b):\n",
        "  s = [1 if a[i] == b[i] else 0 for i in range(len(a))]\n",
        "  return sum(s) / len(a)"
      ],
      "execution_count": 111,
      "outputs": []
    },
    {
      "cell_type": "code",
      "metadata": {
        "id": "NiNa336XfzuU"
      },
      "source": [
        "def AND(X):\n",
        "  w = 1, 1\n",
        "  th = 2\n",
        "  y = [MCP(i, w, th) for i in X]\n",
        "  return y"
      ],
      "execution_count": 112,
      "outputs": []
    },
    {
      "cell_type": "code",
      "metadata": {
        "id": "2racFwUKhGhw",
        "colab": {
          "base_uri": "https://localhost:8080/"
        },
        "outputId": "857aaeb4-8d06-4644-fb1b-44a430d123b7"
      },
      "source": [
        "data = (0, 0), (0, 1), (1, 0), (1, 1)\n",
        "output = AND(data)\n",
        "true = 0, 0, 0, 1\n",
        "accuracy = calc_accuracy(output, true)\n",
        "\n",
        "print('Output:', output)\n",
        "print('True:', true)\n",
        "print('Accuracy:', accuracy)"
      ],
      "execution_count": 113,
      "outputs": [
        {
          "output_type": "stream",
          "name": "stdout",
          "text": [
            "Output: [0, 0, 0, 1]\n",
            "True: (0, 0, 0, 1)\n",
            "Accuracy: 1.0\n"
          ]
        }
      ]
    },
    {
      "cell_type": "code",
      "metadata": {
        "id": "VQ051x3e8Fni"
      },
      "source": [
        "def OR(X):\n",
        "  w = 2, 2\n",
        "  th = 2\n",
        "  y = [MCP(i, w, th) for i in X]\n",
        "  return y"
      ],
      "execution_count": 114,
      "outputs": []
    },
    {
      "cell_type": "code",
      "metadata": {
        "id": "Cjq7S2ax8IHu",
        "colab": {
          "base_uri": "https://localhost:8080/"
        },
        "outputId": "1dff65d5-4e5b-40fc-ca26-25c07ae8de99"
      },
      "source": [
        "data = (0, 0), (0, 1), (1, 0), (1, 1)\n",
        "output = OR(data)\n",
        "true = 0, 1, 1, 1\n",
        "accuracy = calc_accuracy(output, true)\n",
        "\n",
        "print('Output:', output)\n",
        "print('True:', true)\n",
        "print('Accuracy:', accuracy)"
      ],
      "execution_count": 115,
      "outputs": [
        {
          "output_type": "stream",
          "name": "stdout",
          "text": [
            "Output: [0, 1, 1, 1]\n",
            "True: (0, 1, 1, 1)\n",
            "Accuracy: 1.0\n"
          ]
        }
      ]
    },
    {
      "cell_type": "code",
      "metadata": {
        "id": "EO-ZbanW8P6J"
      },
      "source": [
        "def ANDNOT(X):\n",
        "  w = 2, -1\n",
        "  th = 2\n",
        "  y = [MCP(i, w, th) for i in X]\n",
        "  return y"
      ],
      "execution_count": 116,
      "outputs": []
    },
    {
      "cell_type": "code",
      "metadata": {
        "id": "8Ccg-2UU8Ugk",
        "colab": {
          "base_uri": "https://localhost:8080/"
        },
        "outputId": "9546ed66-d884-46a4-ecfe-8b22e7f2acf8"
      },
      "source": [
        "data = (0, 0), (0, 1), (1, 0), (1, 1)\n",
        "output = ANDNOT(data)\n",
        "true = 0, 0, 1, 0\n",
        "accuracy = calc_accuracy(output, true)\n",
        "\n",
        "print('Output:', output)\n",
        "print('True:', true)\n",
        "print('Accuracy:', accuracy)"
      ],
      "execution_count": 117,
      "outputs": [
        {
          "output_type": "stream",
          "name": "stdout",
          "text": [
            "Output: [0, 0, 1, 0]\n",
            "True: (0, 0, 1, 0)\n",
            "Accuracy: 1.0\n"
          ]
        }
      ]
    },
    {
      "cell_type": "code",
      "metadata": {
        "id": "AN2gQc1A-FPf"
      },
      "source": [
        "def XOR(X):\n",
        "  X_flip = [(i[1], i[0]) for i in X]\n",
        "  y1 = ANDNOT(X)\n",
        "  y2 = ANDNOT(X_flip)\n",
        "  y = zip(y1, y2)\n",
        "  z = OR(y)\n",
        "  return z"
      ],
      "execution_count": 118,
      "outputs": []
    },
    {
      "cell_type": "code",
      "metadata": {
        "id": "DLbzE9yl-JFR",
        "colab": {
          "base_uri": "https://localhost:8080/"
        },
        "outputId": "fc0e83ae-b9e7-4568-c38b-c3733919423b"
      },
      "source": [
        "data = (0, 0), (0, 1), (1, 0), (1, 1)\n",
        "output = XOR(data)\n",
        "true = 0, 1, 1, 0\n",
        "accuracy = calc_accuracy(output, true)\n",
        "\n",
        "print('Output:', output)\n",
        "print('True:', true)\n",
        "print('Accuracy:', accuracy)"
      ],
      "execution_count": 119,
      "outputs": [
        {
          "output_type": "stream",
          "name": "stdout",
          "text": [
            "Output: [0, 1, 1, 0]\n",
            "True: (0, 1, 1, 0)\n",
            "Accuracy: 1.0\n"
          ]
        }
      ]
    },
    {
      "cell_type": "markdown",
      "source": [
        "#Soal"
      ],
      "metadata": {
        "id": "UTuApOo_MCPM"
      }
    },
    {
      "cell_type": "markdown",
      "source": [
        "Logika yang sudah ada di modul:\n",
        "-  and\n",
        "-  or\n",
        "-  andnot\n",
        "-  xor"
      ],
      "metadata": {
        "id": "-LDdWhxpBu6A"
      }
    },
    {
      "cell_type": "markdown",
      "source": [
        "Kode di bawah ini merupakan pengembangan dari JST McCulloch-Pitts Neuron. Disini teman-teman akan menyelesaikan masalah logika yang merupakan kombinasi dari dari logika-logika yang telah dibuat fungsi sebelumnya. Selesaikan dengan memanggil fungsi-fungsi tersebut."
      ],
      "metadata": {
        "id": "JNBTiPumLNPp"
      }
    },
    {
      "cell_type": "code",
      "source": [
        "# template soal\n",
        "def logic(X):\n",
        "  f0 = [x[0] for x in X]\n",
        "  f1 = [x[1] for x in X]\n",
        "  f2 = [x[2] for x in X]\n",
        "  op1 = ANDNOT(zip(f0, f1))\n",
        "  op2 = OR(zip(op1, f2))\n",
        "  return op2\n",
        "\n",
        "data = (0,0,0), (0,1,0), (0,0,1), (0,1,1), (1,1,1), (1,0,1), (1,0,0), (1,1,0)\n",
        "true =  0, 0, 1, 1, 1, 1, 1, 0\n",
        "output = logic(data)\n",
        "accuracy = calc_accuracy(output, true)\n",
        "\n",
        "print(accuracy)"
      ],
      "metadata": {
        "id": "Ux40Ut1-aPWc",
        "colab": {
          "base_uri": "https://localhost:8080/"
        },
        "outputId": "5b788ec5-b422-4447-fe4e-d8b3fc4ebce4"
      },
      "execution_count": 120,
      "outputs": [
        {
          "output_type": "stream",
          "name": "stdout",
          "text": [
            "1.0\n"
          ]
        }
      ]
    },
    {
      "cell_type": "markdown",
      "source": [
        "Bagaimana bentuk masalah logika tersebut? (gunakan variabel f0,f1,f2 untuk menjelaskannya)"
      ],
      "metadata": {
        "id": "g6TpIxh96LKt"
      }
    },
    {
      "cell_type": "markdown",
      "source": [
        "\n",
        "Fungsi logic mengolah data biner tiga-input menggunakan kombinasi operasi ANDNOT dan OR. Fungsi ini memisahkan input, menerapkan ANDNOT pada dua fitur pertama, lalu OR dengan fitur ketiga. Hasilnya adalah gerbang logika kustom yang menggabungkan operasi-operasi dasar dalam model neuron McCulloch-Pitts. Keakuratan dihitung dengan membandingkan output terhadap nilai yang ditentukan."
      ],
      "metadata": {
        "id": "WPvnWbrw6LyE"
      }
    }
  ]
}